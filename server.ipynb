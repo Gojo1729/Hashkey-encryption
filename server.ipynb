{
 "cells": [
  {
   "cell_type": "code",
   "execution_count": 1,
   "metadata": {},
   "outputs": [],
   "source": [
    "sending_message_to_customer = False\n",
    "\n",
    "\n",
    "def on_new_client(clientsocket,addr):\n",
    "    while True:\n",
    "        send_message = input(\"Send message to customer ?\")\n",
    "        \n",
    "        if not sending_message_to_customer:\n",
    "            msg = clientsocket.recv(1024)\n",
    "        #do some checks and if msg == someWeirdSignal: break:\n",
    "            print(msg)\n",
    "\n",
    "        if send_message == \"yes\":\n",
    "            sending_message_to_customer = True\n",
    "            msg = \"Hello from server\"\n",
    "        #Maybe some code to compute the last digit of PI, play game or anything else can go here and when you are done.\n",
    "            clientsocket.send(msg)\n",
    "        else:\n",
    "            sending_message_to_customer = False"
   ]
  },
  {
   "cell_type": "code",
   "execution_count": 2,
   "metadata": {},
   "outputs": [
    {
     "name": "stdout",
     "output_type": "stream",
     "text": [
      "Requirement already satisfied: thread in c:\\users\\shivs\\anaconda3\\envs\\pytorchlearning\\lib\\site-packages (0.1.2)\n",
      "Requirement already satisfied: numpy<2.0.0,>=1.26.2 in c:\\users\\shivs\\anaconda3\\envs\\pytorchlearning\\lib\\site-packages (from thread) (1.26.2)\n",
      "Requirement already satisfied: typing-extensions<5.0.0,>=4.8.0 in c:\\users\\shivs\\anaconda3\\envs\\pytorchlearning\\lib\\site-packages (from thread) (4.8.0)\n"
     ]
    }
   ],
   "source": [
    "! pip install thread"
   ]
  },
  {
   "cell_type": "code",
   "execution_count": 1,
   "metadata": {},
   "outputs": [
    {
     "name": "stdout",
     "output_type": "stream",
     "text": [
      "connection <socket.socket fd=1788, family=AddressFamily.AF_INET, type=SocketKind.SOCK_STREAM, proto=0, laddr=('127.0.0.1', 65432), raddr=('127.0.0.1', 53189)>, address ('127.0.0.1', 53189)\n",
      "connection <socket.socket fd=1748, family=AddressFamily.AF_INET, type=SocketKind.SOCK_STREAM, proto=0, laddr=('127.0.0.1', 65432), raddr=('127.0.0.1', 53215)>, address ('127.0.0.1', 53215)\n"
     ]
    }
   ],
   "source": [
    "# echo-server.py\n",
    "\n",
    "import socket\n",
    "import thread\n",
    "\n",
    "HOST = \"127.0.0.1\"  # Standard loopback interface address (localhost)\n",
    "PORT = 65432  # Port to listen on (non-privileged ports are > 1023)\n",
    "conn, addr = None, None\n",
    "\n",
    "client_socket = socket.socket(socket.AF_INET, socket.SOCK_STREAM)\n",
    "client_socket.bind((HOST, PORT))\n",
    "client_socket.listen(5)\n",
    "\n",
    "while True:\n",
    "    conn, addr = client_socket.accept()\n",
    "    print(f\"connection {conn}, address {addr}\")\n",
    "    # with conn:\n",
    "    #     print(f\"Connected by {addr}\")\n",
    "    #     while True:\n",
    "    #         data = conn.recv(1024)\n",
    "    #         print(f\"Data received from {addr}, {data}\")\n",
    "            # if not data:\n",
    "            #     break\n",
    "            # conn.sendall(data)"
   ]
  },
  {
   "cell_type": "code",
   "execution_count": null,
   "metadata": {},
   "outputs": [],
   "source": []
  }
 ],
 "metadata": {
  "kernelspec": {
   "display_name": "pytorchlearning",
   "language": "python",
   "name": "python3"
  },
  "language_info": {
   "codemirror_mode": {
    "name": "ipython",
    "version": 3
   },
   "file_extension": ".py",
   "mimetype": "text/x-python",
   "name": "python",
   "nbconvert_exporter": "python",
   "pygments_lexer": "ipython3",
   "version": "3.10.11"
  }
 },
 "nbformat": 4,
 "nbformat_minor": 2
}
