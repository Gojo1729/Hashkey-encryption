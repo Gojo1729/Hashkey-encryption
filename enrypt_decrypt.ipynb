{
 "cells": [
  {
   "cell_type": "code",
   "execution_count": 1,
   "metadata": {},
   "outputs": [
    {
     "name": "stdout",
     "output_type": "stream",
     "text": [
      "Requirement already satisfied: pycryptodome in c:\\users\\shivs\\anaconda3\\envs\\pytorchlearning\\lib\\site-packages (3.19.0)\n"
     ]
    }
   ],
   "source": [
    "# ! pip install pycryptodome"
   ]
  },
  {
   "cell_type": "code",
   "execution_count": 4,
   "metadata": {},
   "outputs": [],
   "source": [
    "from Crypto.Cipher import AES\n",
    "from Crypto.Random import get_random_bytes"
   ]
  },
  {
   "cell_type": "code",
   "execution_count": 5,
   "metadata": {},
   "outputs": [],
   "source": [
    "from Crypto.Hash import SHA256\n",
    "from Crypto.Random import get_random_bytes\n",
    "from Crypto.Util import strxor\n",
    "from Crypto.Util.Padding import pad, unpad\n",
    "from Crypto.Util.strxor import strxor"
   ]
  },
  {
   "cell_type": "code",
   "execution_count": 7,
   "metadata": {},
   "outputs": [],
   "source": [
    "import hashlib\n",
    "import math\n",
    "\n",
    "class Encryption():\n",
    "\n",
    "    @staticmethod\n",
    "    def hash_to_bytes(hash_hex):\n",
    "        return bytes.fromhex(hash_hex)\n",
    "\n",
    "    @staticmethod\n",
    "    def xor_hashes(bytes1, hash2):\n",
    "        bytes2 = Encryption.hash_to_bytes(hash2)\n",
    "\n",
    "        # Perform XOR operation\n",
    "        xor_result = bytes(a ^ b for a, b in zip(bytes1, bytes2))\n",
    "\n",
    "        return xor_result\n",
    "\n",
    "    def Cipher_Text(IV, Key, P):\n",
    "        b_1 = Key + IV\n",
    "        sha256 = hashlib.sha256()\n",
    "        sha256.update(b_1)\n",
    "        b1_hash= sha256.hexdigest()\n",
    "        Cipher= []\n",
    "\n",
    "        for i in range(math.ceil(len(P)/32)):\n",
    "            Pi = P[31*i:31*(i+1)]\n",
    "            Ci = Encryption.xor_hashes(Pi, b1_hash)\n",
    "            print(\"Ci: \",Ci)\n",
    "\n",
    "            concat = Key + Ci\n",
    "            B = hashlib.sha256()\n",
    "            B.update(concat)\n",
    "            b1_hash= B.hexdigest()\n",
    "            Cipher.append(Ci) \n",
    "\n",
    "        print(\"Cipher chunks array: \", Cipher)\n",
    "        return Cipher\n",
    "\n",
    "\n"
   ]
  },
  {
   "cell_type": "code",
   "execution_count": 72,
   "metadata": {},
   "outputs": [],
   "source": [
    "class Decryption():\n",
    "\n",
    "    @staticmethod\n",
    "    def hash_to_bytes(hash_hex):\n",
    "        return bytes.fromhex(hash_hex)\n",
    "\n",
    "    @staticmethod\n",
    "    def xor_hashes(hash1, bytes2):\n",
    "        bytes1 = Decryption.hash_to_bytes(hash1)\n",
    "        xor_result = bytes(a ^ b for a, b in zip(bytes2, bytes1))\n",
    "\n",
    "        return xor_result\n",
    "\n",
    "    def Plain_Text(IV, Key, C):\n",
    "        a = Key + IV\n",
    "        b = hashlib.sha256()\n",
    "        b.update(a)\n",
    "        Hash_b= b.hexdigest()\n",
    "        print(\"Hash_b initially: \", Hash_b)\n",
    "        \n",
    "        Plains = []\n",
    "        concat = Key\n",
    "        for i in C:\n",
    "            print(\"Chunk: \",i)\n",
    "            P = Decryption.xor_hashes(Hash_b, i)\n",
    "            concat += P\n",
    "            B = hashlib.sha256()\n",
    "            B.update(concat)\n",
    "            Hash_b= B.hexdigest()\n",
    "            print(\"Hash_b After: \", Hash_b)\n",
    "            Plains.append(P)\n",
    "\n",
    "        return Plains\n"
   ]
  },
  {
   "cell_type": "code",
   "execution_count": 82,
   "metadata": {},
   "outputs": [],
   "source": [
    "def hash_256(message):\n",
    "    sha_256 = SHA256.new(message).digest()\n",
    "    return sha_256"
   ]
  },
  {
   "cell_type": "code",
   "execution_count": 180,
   "metadata": {},
   "outputs": [],
   "source": [
    "def XOR(m1_bytes, m2_bytes):\n",
    "    xor_result = bytes(a ^ b for a, b in zip(m1_bytes, m2_bytes))\n",
    "    return xor_result"
   ]
  },
  {
   "cell_type": "code",
   "execution_count": 187,
   "metadata": {},
   "outputs": [
    {
     "data": {
      "text/plain": [
       "b'a\\x1f\\x1f\\x1f\\x1f\\x1f\\x1f\\x1f\\x1f\\x1f\\x1f\\x1f\\x1f\\x1f\\x1f\\x1f\\x1f\\x1f\\x1f\\x1f\\x1f\\x1f\\x1f\\x1f\\x1f\\x1f\\x1f\\x1f\\x1f\\x1f\\x1f\\x1f'"
      ]
     },
     "execution_count": 187,
     "metadata": {},
     "output_type": "execute_result"
    }
   ],
   "source": [
    "pad(b\"a\", 32)"
   ]
  },
  {
   "cell_type": "code",
   "execution_count": 184,
   "metadata": {},
   "outputs": [
    {
     "data": {
      "text/plain": [
       "b'\\x03\\x0f'"
      ]
     },
     "execution_count": 184,
     "metadata": {},
     "output_type": "execute_result"
    }
   ],
   "source": [
    "XOR(pad(b\"a\", b\"ba\"))"
   ]
  },
  {
   "cell_type": "code",
   "execution_count": 190,
   "metadata": {},
   "outputs": [],
   "source": [
    "IV = b'4832500747'\n",
    "Key = b'4103583911'\n",
    "Message= b\"Firstly, the Customer sends Firstly, the Customer sends\"\n",
    "# Message_Chunks = Encryption.Cipher_Text(IV, Key, Message)"
   ]
  },
  {
   "cell_type": "code",
   "execution_count": 191,
   "metadata": {},
   "outputs": [
    {
     "name": "stdout",
     "output_type": "stream",
     "text": [
      "p1=b'Firstly, the Customer sends Firs', p2=b'tly, the Customer sends'\n"
     ]
    }
   ],
   "source": [
    "p1 = Message[:32]\n",
    "p2 = Message[32: ]\n",
    "print(f\"{p1=}, {p2=}\")"
   ]
  },
  {
   "cell_type": "code",
   "execution_count": 192,
   "metadata": {},
   "outputs": [
    {
     "name": "stdout",
     "output_type": "stream",
     "text": [
      "p1=b'Firstly, the Customer sends Firs'\n",
      "b1=b'\\xcc3\\xcb\\xbe\\x19\\xdaL\\xde\\xab;D\\xdf\\xe7\\xe4\\xe8w/\\xeaB\\xd6\\xfe\\x01*\\xe2y\\n\\x96\\xba?V\\xbf\\x02'\n",
      "c1=b'\\x8aZ\\xb9\\xcdm\\xb65\\xf2\\x8bO,\\xba\\xc7\\xa7\\x9d\\x04[\\x85/\\xb3\\x8c!Y\\x87\\x17n\\xe5\\x9ay?\\xcdq'\n"
     ]
    }
   ],
   "source": [
    "b1 = hash_256(Key + IV)\n",
    "c1 = strxor(p1, b1)\n",
    "print(f\"{p1=}\\n{b1=}\\n{c1=}\")"
   ]
  },
  {
   "cell_type": "code",
   "execution_count": 193,
   "metadata": {},
   "outputs": [
    {
     "data": {
      "text/plain": [
       "b'Firstly, the Customer sends Firs'"
      ]
     },
     "execution_count": 193,
     "metadata": {},
     "output_type": "execute_result"
    }
   ],
   "source": [
    "strxor(c1, b1)"
   ]
  },
  {
   "cell_type": "code",
   "execution_count": 195,
   "metadata": {},
   "outputs": [
    {
     "data": {
      "text/plain": [
       "b'tly, the Customer sends'"
      ]
     },
     "execution_count": 195,
     "metadata": {},
     "output_type": "execute_result"
    }
   ],
   "source": [
    "p2"
   ]
  },
  {
   "cell_type": "code",
   "execution_count": 198,
   "metadata": {},
   "outputs": [
    {
     "name": "stdout",
     "output_type": "stream",
     "text": [
      "p2_pad=b'tly, the Customer sends\\t\\t\\t\\t\\t\\t\\t\\t\\t'\n",
      "b2=b'&\\xfeN\\tj\\x02px\\n\\xc6\\xff\\xd7|g\\xc99\\x86\\xc0\\xd9\\x03\\xf7w`\\xa7\\x92\\xa9\\xd3\\x97\\xd3\\xa2~\\x16'\n",
      "c2=b'R\\x927%Jv\\x18\\x1d*\\x85\\x8a\\xa4\\x08\\x08\\xa4\\\\\\xf4\\xe0\\xaaf\\x99\\x13\\x13\\xae\\x9b\\xa0\\xda\\x9e\\xda\\xabw\\x1f'\n"
     ]
    }
   ],
   "source": [
    "b2 = hash_256(Key + c1)\n",
    "p2_pad = pad(p2, 32)\n",
    "c2 = strxor(p2_pad, b2)\n",
    "print(f\"{p2_pad=}\\n{b2=}\\n{c2=}\")"
   ]
  },
  {
   "cell_type": "code",
   "execution_count": 199,
   "metadata": {},
   "outputs": [
    {
     "data": {
      "text/plain": [
       "b'tly, the Customer sends\\t\\t\\t\\t\\t\\t\\t\\t\\t'"
      ]
     },
     "execution_count": 199,
     "metadata": {},
     "output_type": "execute_result"
    }
   ],
   "source": [
    "strxor(c2, b2)"
   ]
  },
  {
   "cell_type": "markdown",
   "metadata": {},
   "source": [
    "# Decryption"
   ]
  },
  {
   "cell_type": "code",
   "execution_count": 200,
   "metadata": {},
   "outputs": [
    {
     "data": {
      "text/plain": [
       "b'4103583911'"
      ]
     },
     "execution_count": 200,
     "metadata": {},
     "output_type": "execute_result"
    }
   ],
   "source": [
    "Key"
   ]
  },
  {
   "cell_type": "code",
   "execution_count": 201,
   "metadata": {},
   "outputs": [
    {
     "name": "stdout",
     "output_type": "stream",
     "text": [
      "b'Firstly, the Customer sends Firs'\n"
     ]
    }
   ],
   "source": [
    "b1 = hash_256(Key + IV)\n",
    "decrypted_p1 = strxor(b1, c1)\n",
    "print(decrypted_p1)"
   ]
  },
  {
   "cell_type": "code",
   "execution_count": 202,
   "metadata": {},
   "outputs": [
    {
     "data": {
      "text/plain": [
       "b'Firstly, the Customer sends Firs'"
      ]
     },
     "execution_count": 202,
     "metadata": {},
     "output_type": "execute_result"
    }
   ],
   "source": [
    "decrypted_p1"
   ]
  },
  {
   "cell_type": "code",
   "execution_count": 203,
   "metadata": {},
   "outputs": [
    {
     "name": "stdout",
     "output_type": "stream",
     "text": [
      "b'tly, the Customer sends\\t\\t\\t\\t\\t\\t\\t\\t\\t'\n"
     ]
    }
   ],
   "source": [
    "b2 = hash_256(Key + c1)\n",
    "decrypted_p2 = strxor(b2, c2)\n",
    "print(decrypted_p2)"
   ]
  },
  {
   "cell_type": "code",
   "execution_count": 205,
   "metadata": {},
   "outputs": [],
   "source": [
    "decrypted_message = decrypted_p1 + decrypted_p2"
   ]
  },
  {
   "cell_type": "code",
   "execution_count": 206,
   "metadata": {},
   "outputs": [
    {
     "data": {
      "text/plain": [
       "b'Firstly, the Customer sends Firstly, the Customer sends'"
      ]
     },
     "execution_count": 206,
     "metadata": {},
     "output_type": "execute_result"
    }
   ],
   "source": [
    "decrypted_message.strip()"
   ]
  },
  {
   "cell_type": "code",
   "execution_count": null,
   "metadata": {},
   "outputs": [],
   "source": []
  }
 ],
 "metadata": {
  "kernelspec": {
   "display_name": "pytorchlearning",
   "language": "python",
   "name": "python3"
  },
  "language_info": {
   "codemirror_mode": {
    "name": "ipython",
    "version": 3
   },
   "file_extension": ".py",
   "mimetype": "text/x-python",
   "name": "python",
   "nbconvert_exporter": "python",
   "pygments_lexer": "ipython3",
   "version": "3.10.11"
  }
 },
 "nbformat": 4,
 "nbformat_minor": 2
}
