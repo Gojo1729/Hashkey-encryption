{
 "cells": [
  {
   "cell_type": "code",
   "execution_count": 1,
   "metadata": {},
   "outputs": [
    {
     "name": "stdout",
     "output_type": "stream",
     "text": [
      "Requirement already satisfied: pycryptodome in c:\\users\\shivs\\anaconda3\\envs\\pytorchlearning\\lib\\site-packages (3.19.0)\n"
     ]
    }
   ],
   "source": [
    "# ! pip install pycryptodome"
   ]
  },
  {
   "cell_type": "code",
   "execution_count": 4,
   "metadata": {},
   "outputs": [],
   "source": [
    "from Crypto.Cipher import AES\n",
    "from Crypto.Random import get_random_bytes"
   ]
  },
  {
   "cell_type": "code",
   "execution_count": 5,
   "metadata": {},
   "outputs": [],
   "source": [
    "from Crypto.Hash import SHA256\n",
    "from Crypto.Random import get_random_bytes\n",
    "from Crypto.Util import strxor\n",
    "from Crypto.Util.Padding import pad, unpad\n",
    "from Crypto.Util.strxor import strxor"
   ]
  },
  {
   "cell_type": "code",
   "execution_count": 7,
   "metadata": {},
   "outputs": [],
   "source": [
    "import hashlib\n",
    "import math\n",
    "\n",
    "class Encryption():\n",
    "\n",
    "    @staticmethod\n",
    "    def hash_to_bytes(hash_hex):\n",
    "        return bytes.fromhex(hash_hex)\n",
    "\n",
    "    @staticmethod\n",
    "    def xor_hashes(bytes1, hash2):\n",
    "        bytes2 = Encryption.hash_to_bytes(hash2)\n",
    "\n",
    "        # Perform XOR operation\n",
    "        xor_result = bytes(a ^ b for a, b in zip(bytes1, bytes2))\n",
    "\n",
    "        return xor_result\n",
    "\n",
    "    def Cipher_Text(IV, Key, P):\n",
    "        b_1 = Key + IV\n",
    "        sha256 = hashlib.sha256()\n",
    "        sha256.update(b_1)\n",
    "        b1_hash= sha256.hexdigest()\n",
    "        Cipher= []\n",
    "\n",
    "        for i in range(math.ceil(len(P)/32)):\n",
    "            Pi = P[31*i:31*(i+1)]\n",
    "            Ci = Encryption.xor_hashes(Pi, b1_hash)\n",
    "            print(\"Ci: \",Ci)\n",
    "\n",
    "            concat = Key + Ci\n",
    "            B = hashlib.sha256()\n",
    "            B.update(concat)\n",
    "            b1_hash= B.hexdigest()\n",
    "            Cipher.append(Ci) \n",
    "\n",
    "        print(\"Cipher chunks array: \", Cipher)\n",
    "        return Cipher\n",
    "\n",
    "\n"
   ]
  },
  {
   "cell_type": "code",
   "execution_count": 72,
   "metadata": {},
   "outputs": [],
   "source": [
    "class Decryption():\n",
    "\n",
    "    @staticmethod\n",
    "    def hash_to_bytes(hash_hex):\n",
    "        return bytes.fromhex(hash_hex)\n",
    "\n",
    "    @staticmethod\n",
    "    def xor_hashes(hash1, bytes2):\n",
    "        bytes1 = Decryption.hash_to_bytes(hash1)\n",
    "        xor_result = bytes(a ^ b for a, b in zip(bytes2, bytes1))\n",
    "\n",
    "        return xor_result\n",
    "\n",
    "    def Plain_Text(IV, Key, C):\n",
    "        a = Key + IV\n",
    "        b = hashlib.sha256()\n",
    "        b.update(a)\n",
    "        Hash_b= b.hexdigest()\n",
    "        print(\"Hash_b initially: \", Hash_b)\n",
    "        \n",
    "        Plains = []\n",
    "        concat = Key\n",
    "        for i in C:\n",
    "            print(\"Chunk: \",i)\n",
    "            P = Decryption.xor_hashes(Hash_b, i)\n",
    "            concat += P\n",
    "            B = hashlib.sha256()\n",
    "            B.update(concat)\n",
    "            Hash_b= B.hexdigest()\n",
    "            print(\"Hash_b After: \", Hash_b)\n",
    "            Plains.append(P)\n",
    "\n",
    "        return Plains\n"
   ]
  },
  {
   "cell_type": "code",
   "execution_count": 252,
   "metadata": {},
   "outputs": [],
   "source": []
  },
  {
   "cell_type": "code",
   "execution_count": 258,
   "metadata": {},
   "outputs": [
    {
     "data": {
      "text/plain": [
       "'{\"UID\": \"Unique ID for identifying each customer\", \"ACTION\": \"TO MERCHANT\", \"HASH\": \"MD(MCB | K1)\", \"TIMESTAMP\": \"T\", \"PADDING\": \"Padding used while encrypting this message - N bits\"}'"
      ]
     },
     "execution_count": 258,
     "metadata": {},
     "output_type": "execute_result"
    }
   ],
   "source": [
    "json.dumps(json_data)"
   ]
  },
  {
   "cell_type": "code",
   "execution_count": 262,
   "metadata": {},
   "outputs": [],
   "source": [
    "json_str = json.dumps(json_data).encode()"
   ]
  },
  {
   "cell_type": "code",
   "execution_count": 264,
   "metadata": {},
   "outputs": [
    {
     "data": {
      "text/plain": [
       "b'{\"UID\": \"Unique ID for identifying each customer\", \"ACTION\": \"TO MERCHANT\", \"HASH\": \"MD(MCB | K1)\", \"TIMESTAMP\": \"T\", \"PADDING\": \"Padding used while encrypting this message - N bits\"}'"
      ]
     },
     "execution_count": 264,
     "metadata": {},
     "output_type": "execute_result"
    }
   ],
   "source": [
    "json_str"
   ]
  },
  {
   "cell_type": "code",
   "execution_count": 263,
   "metadata": {},
   "outputs": [
    {
     "data": {
      "text/plain": [
       "bytes"
      ]
     },
     "execution_count": 263,
     "metadata": {},
     "output_type": "execute_result"
    }
   ],
   "source": [
    "type(json_str)"
   ]
  },
  {
   "cell_type": "code",
   "execution_count": 228,
   "metadata": {},
   "outputs": [],
   "source": [
    "IV = b'4832500747'\n",
    "Key = b'4103583911'\n",
    "Message= b\"Firstly, the Customer sends Firstly, the Customer sends\"\n",
    "# Message_Chunks = Encryption.Cipher_Text(IV, Key, Message)"
   ]
  },
  {
   "cell_type": "code",
   "execution_count": 265,
   "metadata": {},
   "outputs": [
    {
     "name": "stdout",
     "output_type": "stream",
     "text": [
      "n_batches=6\n",
      "Batch size len(msg_block)=32\n",
      "Batch size len(msg_block)=32\n",
      "Batch size len(msg_block)=32\n",
      "Batch size len(msg_block)=32\n",
      "Batch size len(msg_block)=32\n",
      "Batch size len(msg_block)=23\n"
     ]
    }
   ],
   "source": [
    "enc_blocks = encrypt(json_str, Key, IV)"
   ]
  },
  {
   "cell_type": "code",
   "execution_count": 266,
   "metadata": {},
   "outputs": [
    {
     "data": {
      "text/plain": [
       "[b'\\xb7\\x11\\x9e\\xf7]\\xf8v\\xfe\\x89n*\\xb6\\x96\\x91\\x8dWf\\xaeb\\xb0\\x91s\\n\\x8b\\x1do\\xf8\\xceV0\\xc6k',\n",
       " b'\\xb3f\\xaa\\xc0\\xd1<\\xdc+E\\xca\\x89\\xc2\\x12\\x96T{\\xde.fX\\xa6\\x1b\\x843\\x07:#D;\\xc4\\x84g',\n",
       " b'\\xcdq\\x9b;\\xb9(\\x91`\\xfd\\xfaX\\x00\\xd7m\\xcc\\xd7~\\xee-\\xd9\\x9c\\x08_k\\x12q\\xe8\\xc3\\xf6B\\x08-',\n",
       " b'\\xdb\\xa0r\\xb8F\\xf8<\\x14\\x15E[\\xce\\xe5\\xc2M\\x88\\xda\\xe4{\\xac1k\\x0b\\xebTE\\xac\\xc99.\\xa7\\xce',\n",
       " b'\\xdb\\x98\\xcd\\xad\\x83\\x16^D\\xadR9\\x08\\xb2V\\xd0\\xfc\\xebK\\xa7\\xdf<\\x128J$\\tLb\\xb3\\xb8\\xc7u',\n",
       " b'\\x9e\\x94[\\xbf\\xc4\\xac\\x9a\\x16I\\xa2C|A\\x02\\xe4}\\xebpI\\xa3\\xb6\\xc2\\xa6\\xf0\\xbd\\x14a4\\xdf~6\\x1c']"
      ]
     },
     "execution_count": 266,
     "metadata": {},
     "output_type": "execute_result"
    }
   ],
   "source": [
    "enc_blocks"
   ]
  },
  {
   "cell_type": "code",
   "execution_count": 267,
   "metadata": {},
   "outputs": [],
   "source": [
    "from typing import List"
   ]
  },
  {
   "cell_type": "code",
   "execution_count": 191,
   "metadata": {},
   "outputs": [
    {
     "name": "stdout",
     "output_type": "stream",
     "text": [
      "p1=b'Firstly, the Customer sends Firs', p2=b'tly, the Customer sends'\n"
     ]
    }
   ],
   "source": [
    "p1 = Message[:32]\n",
    "p2 = Message[32: ]\n",
    "print(f\"{p1=}, {p2=}\")"
   ]
  },
  {
   "cell_type": "code",
   "execution_count": 192,
   "metadata": {},
   "outputs": [
    {
     "name": "stdout",
     "output_type": "stream",
     "text": [
      "p1=b'Firstly, the Customer sends Firs'\n",
      "b1=b'\\xcc3\\xcb\\xbe\\x19\\xdaL\\xde\\xab;D\\xdf\\xe7\\xe4\\xe8w/\\xeaB\\xd6\\xfe\\x01*\\xe2y\\n\\x96\\xba?V\\xbf\\x02'\n",
      "c1=b'\\x8aZ\\xb9\\xcdm\\xb65\\xf2\\x8bO,\\xba\\xc7\\xa7\\x9d\\x04[\\x85/\\xb3\\x8c!Y\\x87\\x17n\\xe5\\x9ay?\\xcdq'\n"
     ]
    }
   ],
   "source": [
    "b1 = hash_256(Key + IV)\n",
    "c1 = strxor(p1, b1)\n",
    "print(f\"{p1=}\\n{b1=}\\n{c1=}\")"
   ]
  },
  {
   "cell_type": "code",
   "execution_count": 193,
   "metadata": {},
   "outputs": [
    {
     "data": {
      "text/plain": [
       "b'Firstly, the Customer sends Firs'"
      ]
     },
     "execution_count": 193,
     "metadata": {},
     "output_type": "execute_result"
    }
   ],
   "source": [
    "strxor(c1, b1)"
   ]
  },
  {
   "cell_type": "code",
   "execution_count": 195,
   "metadata": {},
   "outputs": [
    {
     "data": {
      "text/plain": [
       "b'tly, the Customer sends'"
      ]
     },
     "execution_count": 195,
     "metadata": {},
     "output_type": "execute_result"
    }
   ],
   "source": [
    "p2"
   ]
  },
  {
   "cell_type": "code",
   "execution_count": 198,
   "metadata": {},
   "outputs": [
    {
     "name": "stdout",
     "output_type": "stream",
     "text": [
      "p2_pad=b'tly, the Customer sends\\t\\t\\t\\t\\t\\t\\t\\t\\t'\n",
      "b2=b'&\\xfeN\\tj\\x02px\\n\\xc6\\xff\\xd7|g\\xc99\\x86\\xc0\\xd9\\x03\\xf7w`\\xa7\\x92\\xa9\\xd3\\x97\\xd3\\xa2~\\x16'\n",
      "c2=b'R\\x927%Jv\\x18\\x1d*\\x85\\x8a\\xa4\\x08\\x08\\xa4\\\\\\xf4\\xe0\\xaaf\\x99\\x13\\x13\\xae\\x9b\\xa0\\xda\\x9e\\xda\\xabw\\x1f'\n"
     ]
    }
   ],
   "source": [
    "b2 = hash_256(Key + c1)\n",
    "p2_pad = pad(p2, 32)\n",
    "c2 = strxor(p2_pad, b2)\n",
    "print(f\"{p2_pad=}\\n{b2=}\\n{c2=}\")"
   ]
  },
  {
   "cell_type": "code",
   "execution_count": 199,
   "metadata": {},
   "outputs": [
    {
     "data": {
      "text/plain": [
       "b'tly, the Customer sends\\t\\t\\t\\t\\t\\t\\t\\t\\t'"
      ]
     },
     "execution_count": 199,
     "metadata": {},
     "output_type": "execute_result"
    }
   ],
   "source": [
    "strxor(c2, b2)"
   ]
  },
  {
   "cell_type": "markdown",
   "metadata": {},
   "source": [
    "# Decryption"
   ]
  },
  {
   "cell_type": "code",
   "execution_count": 200,
   "metadata": {},
   "outputs": [
    {
     "data": {
      "text/plain": [
       "b'4103583911'"
      ]
     },
     "execution_count": 200,
     "metadata": {},
     "output_type": "execute_result"
    }
   ],
   "source": [
    "Key"
   ]
  },
  {
   "cell_type": "code",
   "execution_count": 201,
   "metadata": {},
   "outputs": [
    {
     "name": "stdout",
     "output_type": "stream",
     "text": [
      "b'Firstly, the Customer sends Firs'\n"
     ]
    }
   ],
   "source": [
    "b1 = hash_256(Key + IV)\n",
    "decrypted_p1 = strxor(b1, c1)\n",
    "print(decrypted_p1)"
   ]
  },
  {
   "cell_type": "code",
   "execution_count": 202,
   "metadata": {},
   "outputs": [
    {
     "data": {
      "text/plain": [
       "b'Firstly, the Customer sends Firs'"
      ]
     },
     "execution_count": 202,
     "metadata": {},
     "output_type": "execute_result"
    }
   ],
   "source": [
    "decrypted_p1"
   ]
  },
  {
   "cell_type": "code",
   "execution_count": 203,
   "metadata": {},
   "outputs": [
    {
     "name": "stdout",
     "output_type": "stream",
     "text": [
      "b'tly, the Customer sends\\t\\t\\t\\t\\t\\t\\t\\t\\t'\n"
     ]
    }
   ],
   "source": [
    "b2 = hash_256(Key + c1)\n",
    "decrypted_p2 = strxor(b2, c2)\n",
    "print(decrypted_p2)"
   ]
  },
  {
   "cell_type": "code",
   "execution_count": 205,
   "metadata": {},
   "outputs": [],
   "source": [
    "decrypted_message = decrypted_p1 + decrypted_p2"
   ]
  },
  {
   "cell_type": "code",
   "execution_count": 206,
   "metadata": {},
   "outputs": [
    {
     "data": {
      "text/plain": [
       "b'Firstly, the Customer sends Firstly, the Customer sends'"
      ]
     },
     "execution_count": 206,
     "metadata": {},
     "output_type": "execute_result"
    }
   ],
   "source": [
    "decrypted_message.strip()"
   ]
  },
  {
   "cell_type": "markdown",
   "metadata": {},
   "source": [
    "# Encrypting and decrypting json data"
   ]
  },
  {
   "cell_type": "markdown",
   "metadata": {},
   "source": [
    "### Encrypt json"
   ]
  },
  {
   "cell_type": "code",
   "execution_count": 314,
   "metadata": {},
   "outputs": [],
   "source": [
    "import json\n",
    "\n",
    "\n",
    "IV = b'4832500747'\n",
    "Key = b'4103583911'\n",
    "\n",
    "json_data = {\n",
    "\"UID\": \"Unique ID for identifying each customer\",\n",
    "\"ACTION\": \"TO MERCHANT\",\n",
    "\"HASH\": \"MD(MCB | K1)\",\n",
    "\"TIMESTAMP\": \"T\",\n",
    "\"PADDING\": \"Padding used while encrypting this message - N bits\",\n",
    "\"PAYLOAD\": {\n",
    "\"PADDING_SIZE\": \"Padding used while encrypting the payload's message\",\n",
    "\"MESSAGE\": \"Message block from Customer to Merchant encrypted using secret key hash\",\n",
    " \"HASH\": \"MD(MCM | K3)\"\n",
    "}\n",
    "}"
   ]
  },
  {
   "cell_type": "code",
   "execution_count": 315,
   "metadata": {},
   "outputs": [],
   "source": [
    "\n",
    "def hash_256(message):\n",
    "    sha_256 = SHA256.new(message).digest()\n",
    "    return sha_256\n",
    "\n",
    "\n",
    "def encrypt(message: bytes, Key: bytes, IV: bytes):\n",
    "    batch_size = 32\n",
    "    msg_len = len(message)\n",
    "    n_batches = math.ceil(msg_len/batch_size)\n",
    "    print(f\"{n_batches=}\")\n",
    "    encrypted_blocks = []\n",
    "    b = hash_256(Key + IV)\n",
    "    encrypted_block = None\n",
    "\n",
    "    for batch_number in range(n_batches):\n",
    "        batch_start  = batch_number * batch_size\n",
    "        batch_end = batch_start + batch_size\n",
    "        msg_block = message[batch_start:batch_end]\n",
    "        print(f\"Batch size {len(msg_block)=}\")\n",
    "\n",
    "        if len(msg_block) % 32 != 0:\n",
    "            msg_block = pad(msg_block, 32)\n",
    "\n",
    "        encrypted_block = strxor(msg_block, b)\n",
    "        encrypted_blocks.append(encrypted_block)\n",
    "        b = hash_256(Key + encrypted_block)\n",
    "\n",
    "\n",
    "    return encrypted_blocks"
   ]
  },
  {
   "cell_type": "markdown",
   "metadata": {},
   "source": [
    "### Decrypt json"
   ]
  },
  {
   "cell_type": "code",
   "execution_count": 316,
   "metadata": {},
   "outputs": [],
   "source": [
    "def decrypt(encrypted_blocks: List[bytes], Key: bytes, IV: bytes):\n",
    "    b = hash_256(Key + IV)\n",
    "    decrypted_blocks = []\n",
    "    for enc_block in encrypted_blocks:\n",
    "        decrypted_block = strxor(b, enc_block)\n",
    "        decrypted_blocks.append(decrypted_block)\n",
    "        b = hash_256(Key + enc_block)\n",
    "\n",
    "\n",
    "    return decrypted_blocks"
   ]
  },
  {
   "cell_type": "code",
   "execution_count": 317,
   "metadata": {},
   "outputs": [
    {
     "name": "stdout",
     "output_type": "stream",
     "text": [
      "n_batches=12\n",
      "Batch size len(msg_block)=32\n",
      "Batch size len(msg_block)=32\n",
      "Batch size len(msg_block)=32\n",
      "Batch size len(msg_block)=32\n",
      "Batch size len(msg_block)=32\n",
      "Batch size len(msg_block)=32\n",
      "Batch size len(msg_block)=32\n",
      "Batch size len(msg_block)=32\n",
      "Batch size len(msg_block)=32\n",
      "Batch size len(msg_block)=32\n",
      "Batch size len(msg_block)=32\n",
      "Batch size len(msg_block)=25\n"
     ]
    }
   ],
   "source": [
    "json_str = json.dumps(json_data).encode()\n",
    "enc_blocks = encrypt(json_str, Key, IV)"
   ]
  },
  {
   "cell_type": "code",
   "execution_count": 318,
   "metadata": {},
   "outputs": [
    {
     "data": {
      "text/plain": [
       "[b'\\xb7\\x11\\x9e\\xf7]\\xf8v\\xfe\\x89n*\\xb6\\x96\\x91\\x8dWf\\xaeb\\xb0\\x91s\\n\\x8b\\x1do\\xf8\\xceV0\\xc6k',\n",
       " b'\\xb3f\\xaa\\xc0\\xd1<\\xdc+E\\xca\\x89\\xc2\\x12\\x96T{\\xde.fX\\xa6\\x1b\\x843\\x07:#D;\\xc4\\x84g',\n",
       " b'\\xcdq\\x9b;\\xb9(\\x91`\\xfd\\xfaX\\x00\\xd7m\\xcc\\xd7~\\xee-\\xd9\\x9c\\x08_k\\x12q\\xe8\\xc3\\xf6B\\x08-',\n",
       " b'\\xdb\\xa0r\\xb8F\\xf8<\\x14\\x15E[\\xce\\xe5\\xc2M\\x88\\xda\\xe4{\\xac1k\\x0b\\xebTE\\xac\\xc99.\\xa7\\xce',\n",
       " b'\\xdb\\x98\\xcd\\xad\\x83\\x16^D\\xadR9\\x08\\xb2V\\xd0\\xfc\\xebK\\xa7\\xdf<\\x128J$\\tLb\\xb3\\xb8\\xc7u',\n",
       " b'\\x9e\\x94[\\xbf\\xc4\\xac\\x9a\\x16I\\xa2C|A\\x02\\xe4}\\xebpI\\xa3\\xb6\\xc2\\xf7\\xd9\\x96M)d\\x9a8~Q',\n",
       " b'\\xff\\xdd\\x92\\xec\\x18\\xde\\xbfQ\\x934Q\\xab\\xb4\\xbb\\xd8\\x9f\\xc8\\xf5\\xd7\\x7f(`\\xa1\\x9bxS\\x95|\\x0e\\xc5.\\xdf',\n",
       " b'\\\\\\x994\\xe5p\\xa2\\x1a\\xf0\\x9f\\x17\\x90\\x03?\\xf0od\\x02\\xbe3E6\\xbb\\xbe\\xb7\\x9an?<\\xa4n\\xac\\xdd',\n",
       " b']f\\xa1\\xdf\\x9f\\xd6CjD\\x17\\xcb\\x8e\\x99\\xfc2\\x8b>|0\\xc4>x\\x1f\\x9f\\xde\\x9f6\\x86\\x92 \\xc2\\xe2',\n",
       " b'\\x9e\\xfa\\xb75|<\\xa5v7\\xaci\\xf0O\\xb7\\xaa\\t}em\\xa6|\\x0c^\\xa6\\x0fucx\\xc9\\xd2g\\x0f',\n",
       " b\"\\xdbj\\x16\\x84\\xe3\\xd0\\xac\\xfa\\x13\\x8cR\\x0f_8T\\xeb'\\xee1K\\x9e\\xa2\\xc3\\xa6\\xcbc<Fb\\xe9\\xe3;\",\n",
       " b'\\xa7\\x81v\\xc6XF\\x0b\\xaa\\\\Q\\xff8\\x08Wp\\x9e\\x14\\x08\\x89;\\xe0t\\x05\\xcb\\xbe\\x16\\xb3fE\\x80\\xb4r']"
      ]
     },
     "execution_count": 318,
     "metadata": {},
     "output_type": "execute_result"
    }
   ],
   "source": [
    "enc_blocks"
   ]
  },
  {
   "cell_type": "code",
   "execution_count": 335,
   "metadata": {},
   "outputs": [
    {
     "name": "stdout",
     "output_type": "stream",
     "text": [
      "b'{\"UID\": \"Unique ID for identifying each customer\", \"ACTION\": \"TO MERCHANT\", \"HASH\": \"MD(MCB | K1)\", \"TIMESTAMP\": \"T\", \"PADDING\": \"Padding used while encrypting this message - N bits\", \"PAYLOAD\": {\"PADDING_SIZE\": \"Padding used while encrypting the payload\\'s message\", \"MESSAGE\": \"Message block from Customer to Merchant encrypted using secret key hash\", \"HASH\": \"MD(MCM | K3)\"}}\\x07\\x07\\x07\\x07\\x07\\x07\\x07' 7\n",
      "decrypted_message='{\"UID\": \"Unique ID for identifying each customer\", \"ACTION\": \"TO MERCHANT\", \"HASH\": \"MD(MCB | K1)\", \"TIMESTAMP\": \"T\", \"PADDING\": \"Padding used while encrypting this message - N bits\", \"PAYLOAD\": {\"PADDING_SIZE\": \"Padding used while encrypting the payload\\'s message\", \"MESSAGE\": \"Message block from Customer to Merchant encrypted using secret key hash\", \"HASH\": \"MD(MCM | K3)\"}}'\n"
     ]
    }
   ],
   "source": [
    "decrypted_message_blocks = decrypt(enc_blocks, Key, IV)\n",
    "\n",
    "concatenated_decrypted_message = b\"\"\n",
    "for dmsg in decrypted_message_blocks:\n",
    "    concatenated_decrypted_message += dmsg\n",
    "\n",
    "print(concatenated_decrypted_message, concatenated_decrypted_message[-1])\n",
    "unpaded_dmsg = unpad(concatenated_decrypted_message, 32)\n",
    "\n",
    "decrypted_message = unpaded_dmsg.decode()\n",
    "print(f\"{decrypted_message=}\")\n",
    "decrypted_json = json.loads(decrypted_message)"
   ]
  },
  {
   "cell_type": "code",
   "execution_count": 336,
   "metadata": {},
   "outputs": [
    {
     "name": "stdout",
     "output_type": "stream",
     "text": [
      "decrypted_json={'UID': 'Unique ID for identifying each customer', 'ACTION': 'TO MERCHANT', 'HASH': 'MD(MCB | K1)', 'TIMESTAMP': 'T', 'PADDING': 'Padding used while encrypting this message - N bits', 'PAYLOAD': {'PADDING_SIZE': \"Padding used while encrypting the payload's message\", 'MESSAGE': 'Message block from Customer to Merchant encrypted using secret key hash', 'HASH': 'MD(MCM | K3)'}}\n"
     ]
    }
   ],
   "source": [
    "print(f\"{decrypted_json=}\")"
   ]
  },
  {
   "cell_type": "code",
   "execution_count": null,
   "metadata": {},
   "outputs": [],
   "source": []
  }
 ],
 "metadata": {
  "kernelspec": {
   "display_name": "pytorchlearning",
   "language": "python",
   "name": "python3"
  },
  "language_info": {
   "codemirror_mode": {
    "name": "ipython",
    "version": 3
   },
   "file_extension": ".py",
   "mimetype": "text/x-python",
   "name": "python",
   "nbconvert_exporter": "python",
   "pygments_lexer": "ipython3",
   "version": "3.10.11"
  }
 },
 "nbformat": 4,
 "nbformat_minor": 2
}
