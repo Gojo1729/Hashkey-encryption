{
 "cells": [
  {
   "cell_type": "code",
   "execution_count": 1,
   "metadata": {},
   "outputs": [
    {
     "ename": "ConnectionResetError",
     "evalue": "[WinError 10054] An existing connection was forcibly closed by the remote host",
     "output_type": "error",
     "traceback": [
      "\u001b[1;31m---------------------------------------------------------------------------\u001b[0m",
      "\u001b[1;31mConnectionResetError\u001b[0m                      Traceback (most recent call last)",
      "\u001b[1;32md:\\MS\\Fall2023\\Network-6349\\Project\\code\\NSProject\\customer.ipynb Cell 1\u001b[0m line \u001b[0;36m1\n\u001b[0;32m     <a href='vscode-notebook-cell:/d%3A/MS/Fall2023/Network-6349/Project/code/NSProject/customer.ipynb#W0sZmlsZQ%3D%3D?line=11'>12</a>\u001b[0m \u001b[39mif\u001b[39;00m action \u001b[39m==\u001b[39m \u001b[39m\"\u001b[39m\u001b[39mA\u001b[39m\u001b[39m\"\u001b[39m:        \n\u001b[0;32m     <a href='vscode-notebook-cell:/d%3A/MS/Fall2023/Network-6349/Project/code/NSProject/customer.ipynb#W0sZmlsZQ%3D%3D?line=12'>13</a>\u001b[0m     s\u001b[39m.\u001b[39msendall(\u001b[39mb\u001b[39m\u001b[39m\"\u001b[39m\u001b[39mHello, world\u001b[39m\u001b[39m\"\u001b[39m)\n\u001b[1;32m---> <a href='vscode-notebook-cell:/d%3A/MS/Fall2023/Network-6349/Project/code/NSProject/customer.ipynb#W0sZmlsZQ%3D%3D?line=13'>14</a>\u001b[0m     data \u001b[39m=\u001b[39m s\u001b[39m.\u001b[39;49mrecv(\u001b[39m1024\u001b[39;49m)\n\u001b[0;32m     <a href='vscode-notebook-cell:/d%3A/MS/Fall2023/Network-6349/Project/code/NSProject/customer.ipynb#W0sZmlsZQ%3D%3D?line=15'>16</a>\u001b[0m \u001b[39mif\u001b[39;00m action \u001b[39m==\u001b[39m \u001b[39m\"\u001b[39m\u001b[39mB\u001b[39m\u001b[39m\"\u001b[39m:\n\u001b[0;32m     <a href='vscode-notebook-cell:/d%3A/MS/Fall2023/Network-6349/Project/code/NSProject/customer.ipynb#W0sZmlsZQ%3D%3D?line=16'>17</a>\u001b[0m     s\u001b[39m.\u001b[39mclose()\n",
      "\u001b[1;31mConnectionResetError\u001b[0m: [WinError 10054] An existing connection was forcibly closed by the remote host"
     ]
    }
   ],
   "source": [
    "# echo-client.py\n",
    "\n",
    "import socket\n",
    "\n",
    "HOST = \"127.0.0.1\"  # The server's hostname or IP address\n",
    "PORT = 65432  # The port used by the server\n",
    "\n",
    "with socket.socket(socket.AF_INET, socket.SOCK_STREAM) as s:\n",
    "    s.connect((HOST, PORT))\n",
    "    while True:\n",
    "        action = input(\"A to send message, B to quit\")\n",
    "        if action == \"A\":        \n",
    "            s.sendall(b\"Hello, world\")\n",
    "            data = s.recv(1024)\n",
    "        \n",
    "        if action == \"B\":\n",
    "            s.close()\n",
    "            break\n",
    "\n",
    "print(f\"Received {data!r}\")"
   ]
  },
  {
   "cell_type": "code",
   "execution_count": null,
   "metadata": {},
   "outputs": [],
   "source": []
  }
 ],
 "metadata": {
  "kernelspec": {
   "display_name": "pytorchlearning",
   "language": "python",
   "name": "python3"
  },
  "language_info": {
   "codemirror_mode": {
    "name": "ipython",
    "version": 3
   },
   "file_extension": ".py",
   "mimetype": "text/x-python",
   "name": "python",
   "nbconvert_exporter": "python",
   "pygments_lexer": "ipython3",
   "version": "3.10.11"
  }
 },
 "nbformat": 4,
 "nbformat_minor": 2
}
